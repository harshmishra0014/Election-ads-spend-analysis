


import pandas as pd





results = pd.read_csv('E:\Election ads analysis\data\advertisers.csv')
# advertisers = pd.read_csv('data/advertisers.csv')
# locations = pd.read_csv('data/locations.csv')
